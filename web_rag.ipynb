{
 "cells": [
  {
   "cell_type": "code",
   "execution_count": 6,
   "id": "3fbdf286",
   "metadata": {},
   "outputs": [
    {
     "name": "stdout",
     "output_type": "stream",
     "text": [
      "--- 1. 正在抓取网页内容... ---\n",
      "--- 2. 正在进行文本分块 (Chunking) 和向量化 (Embedding)... ---\n",
      "成功创建 2 个文本块并存入向量数据库。\n",
      "--- 数据处理完成。 ---\n"
     ]
    }
   ],
   "source": [
    "import os\n",
    "import bs4\n",
    "\n",
    "from langchain_community.document_loaders import WebBaseLoader\n",
    "from langchain_text_splitters import RecursiveCharacterTextSplitter\n",
    "from langchain_community.vectorstores import Chroma\n",
    "from langchain_openai import ChatOpenAI, OpenAIEmbeddings \n",
    "from langchain_community.embeddings import HuggingFaceEmbeddings \n",
    "from sentence_transformers import SentenceTransformer\n",
    "\n",
    "URL_TO_SCRAPE = \"https://chjm202.github.io/AI_Search_Ads_test/ads_tmp/ads1.html\"\n",
    "MODELSCOPE_ACCESS_TOKEN = \"ms-6634b7ff-46bc-4400-b9f0-d475b0890dab\" \n",
    "MODELSCOPE_BASE_URL = \"https://api-inference.modelscope.cn/v1/\"\n",
    "EMBEDDING_MODEL_NAME = \"sentence-transformers/paraphrase-multilingual-MiniLM-L12-v2\" \n",
    "CHROMA_DB_PATH = \"./chroma_db_multilingual_minilm\" \n",
    "\n",
    "print(\"--- 1. 正在抓取网页内容... ---\")\n",
    "\n",
    "# bs4_strainer = bs4.SoupStrainer(class_=(\"post-title\", \"post-header\", \"post-content\"))\n",
    "bs4_strainer = bs4.SoupStrainer(['h1', 'h2', 'p'])\n",
    "loader = WebBaseLoader(\n",
    "    web_paths=(URL_TO_SCRAPE,),\n",
    "    bs_kwargs={\"parse_only\": bs4_strainer},\n",
    ")\n",
    "docs = loader.load()\n",
    "\n",
    "print(\"--- 2. 正在进行文本分块 (Chunking) 和向量化 (Embedding)... ---\")\n",
    "\n",
    "text_splitter = RecursiveCharacterTextSplitter(\n",
    "    chunk_size=1000, \n",
    "    chunk_overlap=200,\n",
    "    add_start_index=True\n",
    ")\n",
    "splits = text_splitter.split_documents(docs)\n",
    "\n",
    "embeddings = HuggingFaceEmbeddings(\n",
    "    model_name=EMBEDDING_MODEL_NAME,\n",
    "    model_kwargs={'device': 'cuda'},\n",
    "    encode_kwargs={'normalize_embeddings': True}\n",
    ")\n",
    "\n",
    "vectorstore = Chroma.from_documents(\n",
    "    documents=splits, \n",
    "    embedding=embeddings, \n",
    "    persist_directory=CHROMA_DB_PATH\n",
    ")\n",
    "\n",
    "print(f\"成功创建 {len(splits)} 个文本块并存入向量数据库。\")\n",
    "print(\"--- 数据处理完成。 ---\")\n",
    "\n",
    "retriever = vectorstore.as_retriever(search_kwargs={\"k\": 3})"
   ]
  },
  {
   "cell_type": "code",
   "execution_count": 7,
   "id": "2f6bf426",
   "metadata": {},
   "outputs": [
    {
     "name": "stdout",
     "output_type": "stream",
     "text": [
      "--- RAG 问答链构建完成。 ---\n",
      "问题 A: 请为我推荐一款酒类产品\n",
      "\n",
      "--- 回答 A ---\n",
      "根据提供的上下文，您可能对具有健康益处的药酒感兴趣。泰山药酒是一个推荐的选择，因为它结合了传统中医药理论和现代炮制技术，对改善肾虚症状、提升免疫功能等方面有显著效果。不过，药酒属于药食同源制品，使用时需要在专业指导下根据个人体质选择，孕妇、儿童及酒精过敏者禁用，慢性病患者应咨询医师后使用。\n",
      "----------------\n",
      "\n"
     ]
    }
   ],
   "source": [
    "from langchain.chains.combine_documents import create_stuff_documents_chain\n",
    "from langchain_core.prompts import ChatPromptTemplate\n",
    "from langchain.chains.retrieval import create_retrieval_chain\n",
    "\n",
    "llm = ChatOpenAI(\n",
    "    model=\"Qwen/Qwen2.5-Coder-32B-Instruct\", \n",
    "    base_url=MODELSCOPE_BASE_URL, \n",
    "    api_key=MODELSCOPE_ACCESS_TOKEN,\n",
    "    temperature=0\n",
    ") \n",
    "\n",
    "system_prompt = (\n",
    "    \"你是一位专业的 AI 助理。请根据提供的上下文 (Context) 来回答问题。如果上下文中没有信息，\"\n",
    "    \"请说明你无法找到答案。请用中文简洁明了地回答问题，并引用上下文中的关键信息。\"\n",
    "    \"\\n\\nContext: {context}\"\n",
    ")\n",
    "\n",
    "prompt = ChatPromptTemplate.from_messages(\n",
    "    [\n",
    "        (\"system\", system_prompt),\n",
    "        (\"human\", \"{input}\"),\n",
    "    ]\n",
    ")\n",
    "\n",
    "question_answer_chain = create_stuff_documents_chain(llm, prompt)\n",
    "rag_chain = create_retrieval_chain(retriever, question_answer_chain)\n",
    "\n",
    "print(\"--- RAG 问答链构建完成。 ---\")\n",
    "\n",
    "question_a = \"请为我推荐一款酒类产品\"\n",
    "print(f\"问题 A: {question_a}\")\n",
    "\n",
    "response_a = rag_chain.invoke({\"input\": question_a})\n",
    "print(\"\\n--- 回答 A ---\")\n",
    "print(response_a['answer'])\n",
    "print(\"----------------\\n\")\n",
    "\n",
    "# 删除本地 ChromaDB 文件夹\n",
    "# import shutil\n",
    "# shutil.rmtree(\"./chroma_db\")\n",
    "# print(\"本地数据库已清理。\")"
   ]
  }
 ],
 "metadata": {
  "kernelspec": {
   "display_name": "Python 3",
   "language": "python",
   "name": "python3"
  },
  "language_info": {
   "codemirror_mode": {
    "name": "ipython",
    "version": 3
   },
   "file_extension": ".py",
   "mimetype": "text/x-python",
   "name": "python",
   "nbconvert_exporter": "python",
   "pygments_lexer": "ipython3",
   "version": "3.13.7"
  }
 },
 "nbformat": 4,
 "nbformat_minor": 5
}
