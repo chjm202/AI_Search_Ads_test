{
 "cells": [
  {
   "cell_type": "code",
   "execution_count": 1,
   "id": "df592b82",
   "metadata": {},
   "outputs": [
    {
     "name": "stdout",
     "output_type": "stream",
     "text": [
      "Title: 横幅广告测试页\n",
      "\n",
      "URL Source: https://chjm202.github.io/AI_Search_Ads_test/ads_tmp/banner_ad_example.html\n",
      "\n",
      "Published Time: Sat, 11 Oct 2025 06:46:19 GMT\n",
      "\n",
      "Markdown Content:\n",
      "深入解析现代互联网广告生态\n",
      "-------------\n",
      "\n",
      "文章第一段：广告过滤工具的主要挑战之一是区分合法内容和植入式广告。很多网站为了绕过传统过滤机制，会将广告以看似自然的方式内嵌到内容流中。\n",
      "\n",
      "文章第二段：这种内嵌横幅广告的难点在于，它们不使用通用的广告域名或脚本，而是直接作为网页结构的一部分加载。一个高效的过滤工具必须依赖于结构分析和行为判断来识别它们。\n",
      "\n",
      "文章第三段：我们希望确保工具能够处理各种尺寸和颜色模式的广告，以提供最佳的用户体验。\n",
      "\n"
     ]
    }
   ],
   "source": [
    "import requests\n",
    "\n",
    "REMOVE_SELECTORS = \"#test-sidebar-ad, #test-popup-ad, .banner-ad\"\n",
    "TARGET_SELECTORS = \".main-content, body\"\n",
    "\n",
    "headers = {\n",
    "    \"X-Remove-Selector\": REMOVE_SELECTORS,\n",
    "    \"X-Target-Selector\": TARGET_SELECTORS\n",
    "}\n",
    "\n",
    "url = 'https://r.jina.ai/https://chjm202.github.io/AI_Search_Ads_test/ads_tmp/banner_ad_example.html'\n",
    "\n",
    "response = requests.get(url, headers=headers)\n",
    "\n",
    "print(response.text)"
   ]
  },
  {
   "cell_type": "code",
   "execution_count": 2,
   "id": "9c23800b",
   "metadata": {},
   "outputs": [
    {
     "name": "stdout",
     "output_type": "stream",
     "text": [
      "Title: 弹窗广告测试页\n",
      "\n",
      "URL Source: https://chjm202.github.io/AI_Search_Ads_test/ads_tmp/popup_ad_example.html\n",
      "\n",
      "Published Time: Sat, 11 Oct 2025 06:46:19 GMT\n",
      "\n",
      "Markdown Content:\n",
      "正常网页内容\n",
      "------\n",
      "\n",
      "这是一个正常的网页，下面有大量的滚动内容，但被一个弹窗广告覆盖。\n",
      "\n",
      "向下滚动以确保弹窗广告是固定在屏幕上的。\n",
      "\n"
     ]
    }
   ],
   "source": [
    "url = 'https://r.jina.ai/https://chjm202.github.io/AI_Search_Ads_test/ads_tmp/popup_ad_example.html'\n",
    "\n",
    "response = requests.get(url, headers=headers)\n",
    "\n",
    "print(response.text)"
   ]
  },
  {
   "cell_type": "code",
   "execution_count": 3,
   "id": "f035147b",
   "metadata": {},
   "outputs": [
    {
     "name": "stdout",
     "output_type": "stream",
     "text": [
      "Title: 侧边栏广告测试页\n",
      "\n",
      "URL Source: https://chjm202.github.io/AI_Search_Ads_test/ads_tmp/sidebar_ad_example.html\n",
      "\n",
      "Published Time: Sat, 11 Oct 2025 06:46:19 GMT\n",
      "\n",
      "Markdown Content:\n",
      "文章主内容标题\n",
      "-------\n",
      "\n",
      "这是正文的第一段。测试工具应该能识别出右侧的元素是一个广告，并将其隐藏或移除，而不影响正文的正常阅读。\n",
      "\n",
      "Lorem ipsum dolor sit amet, consectetur adipiscing elit. Sed do eiusmod tempor incididunt ut labore et dolore magna aliqua. Ut enim ad minim veniam, quis nostrud exercitation ullamco laboris nisi ut aliquip ex ea commodo consequat.\n",
      "\n",
      "内容副标题\n",
      "-----\n",
      "\n",
      "Duis aute irure dolor in reprehenderit in voluptate velit esse cillum dolore eu fugiat nulla pariatur. Excepteur sint occaecat cupidatat non proident, sunt in culpa qui officia deserunt mollit anim id est laborum.\n",
      "\n"
     ]
    }
   ],
   "source": [
    "url = 'https://r.jina.ai/https://chjm202.github.io/AI_Search_Ads_test/ads_tmp/sidebar_ad_example.html'\n",
    "\n",
    "response = requests.get(url, headers=headers)\n",
    "\n",
    "print(response.text)"
   ]
  }
 ],
 "metadata": {
  "kernelspec": {
   "display_name": "Python 3",
   "language": "python",
   "name": "python3"
  },
  "language_info": {
   "codemirror_mode": {
    "name": "ipython",
    "version": 3
   },
   "file_extension": ".py",
   "mimetype": "text/x-python",
   "name": "python",
   "nbconvert_exporter": "python",
   "pygments_lexer": "ipython3",
   "version": "3.12.8"
  }
 },
 "nbformat": 4,
 "nbformat_minor": 5
}
